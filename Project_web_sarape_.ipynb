{
  "nbformat": 4,
  "nbformat_minor": 0,
  "metadata": {
    "colab": {
      "provenance": []
    },
    "kernelspec": {
      "name": "python3",
      "display_name": "Python 3"
    },
    "language_info": {
      "name": "python"
    }
  },
  "cells": [
    {
      "cell_type": "code",
      "execution_count": 15,
      "metadata": {
        "id": "EDRmsFlJXpYK"
      },
      "outputs": [],
      "source": [
        "import pandas as pd\n"
      ]
    },
    {
      "cell_type": "markdown",
      "source": [
        "Scraping from https://api.shareaction.org/resources/reports/Oil-Gas-Expansion-lose-lose.pdf into a cvs for merging "
      ],
      "metadata": {
        "id": "8VaNof7V5RxE"
      }
    },
    {
      "cell_type": "code",
      "source": [
        "pip install tabula-py"
      ],
      "metadata": {
        "colab": {
          "base_uri": "https://localhost:8080/"
        },
        "id": "yqlU8LFlbKcw",
        "outputId": "f9d6cc4f-f65c-4a44-b3f6-e3a333e23f0b"
      },
      "execution_count": 16,
      "outputs": [
        {
          "output_type": "stream",
          "name": "stdout",
          "text": [
            "Looking in indexes: https://pypi.org/simple, https://us-python.pkg.dev/colab-wheels/public/simple/\n",
            "Collecting tabula-py\n",
            "  Downloading tabula_py-2.6.0-py3-none-any.whl (12.0 MB)\n",
            "\u001b[2K     \u001b[90m━━━━━━━━━━━━━━━━━━━━━━━━━━━━━━━━━━━━━━━━\u001b[0m \u001b[32m12.0/12.0 MB\u001b[0m \u001b[31m76.2 MB/s\u001b[0m eta \u001b[36m0:00:00\u001b[0m\n",
            "\u001b[?25hCollecting distro\n",
            "  Downloading distro-1.8.0-py3-none-any.whl (20 kB)\n",
            "Requirement already satisfied: pandas>=0.25.3 in /usr/local/lib/python3.8/dist-packages (from tabula-py) (1.3.5)\n",
            "Requirement already satisfied: numpy in /usr/local/lib/python3.8/dist-packages (from tabula-py) (1.21.6)\n",
            "Requirement already satisfied: python-dateutil>=2.7.3 in /usr/local/lib/python3.8/dist-packages (from pandas>=0.25.3->tabula-py) (2.8.2)\n",
            "Requirement already satisfied: pytz>=2017.3 in /usr/local/lib/python3.8/dist-packages (from pandas>=0.25.3->tabula-py) (2022.7)\n",
            "Requirement already satisfied: six>=1.5 in /usr/local/lib/python3.8/dist-packages (from python-dateutil>=2.7.3->pandas>=0.25.3->tabula-py) (1.15.0)\n",
            "Installing collected packages: distro, tabula-py\n",
            "Successfully installed distro-1.8.0 tabula-py-2.6.0\n"
          ]
        }
      ]
    },
    {
      "cell_type": "code",
      "source": [
        "import tabula"
      ],
      "metadata": {
        "id": "H6zLWZymbRRz"
      },
      "execution_count": 17,
      "outputs": []
    },
    {
      "cell_type": "code",
      "source": [
        "file1 = \"https://api.shareaction.org/resources/reports/Oil-Gas-Expansion-lose-lose.pdf\"\n",
        "table = tabula.read_pdf(file1,pages=8)\n",
        "print(table[0])"
      ],
      "metadata": {
        "colab": {
          "base_uri": "https://localhost:8080/"
        },
        "id": "XFudjNKKbT8j",
        "outputId": "e5f42760-7b3c-41a4-fa82-dbb18cb64593"
      },
      "execution_count": 25,
      "outputs": [
        {
          "output_type": "stream",
          "name": "stdout",
          "text": [
            "    Unnamed: 0                      Unnamed: 1    NZBA Unnamed: 2 Unnamed: 3  \\\n",
            "0          NaN  All amounts are in million US$     NaN       2016       2017   \n",
            "1          NaN                             NaN  member        NaN        NaN   \n",
            "2          1.0                            HSBC     Yes      6,591      9,668   \n",
            "3          2.0                        Barclays     Yes      9,660      3,787   \n",
            "4          3.0                     BNP Paribas     Yes      5,746      4,028   \n",
            "5          4.0                 Crédit Agricole     Yes      3,809      4,795   \n",
            "6          5.0                Société Générale     Yes      4,448      3,073   \n",
            "7          6.0                   Deutsche Bank     Yes      7,491      3,807   \n",
            "8          7.0                       Santander     Yes      4,923      2,898   \n",
            "9          8.0                   Credit Suisse     Yes      4,440      2,502   \n",
            "10         9.0              Standard Chartered     Yes      1,572      1,255   \n",
            "11        10.0                       UniCredit     Yes      2,022      1,345   \n",
            "12        11.0                             ING     Yes      1,902      1,868   \n",
            "13        12.0                 Intesa Sanpaolo     Yes      3,101        597   \n",
            "14        13.0                             UBS     Yes      2,072      2,634   \n",
            "15        14.0                            BPCE     Yes      1,316        989   \n",
            "16        15.0                            BBVA     Yes      2,251      1,780   \n",
            "17        16.0            Lloyds Banking Group     Yes      1,005        655   \n",
            "18        17.0                     Commerzbank     Yes        164      1,009   \n",
            "19        18.0                         NatWest     Yes        318        936   \n",
            "20        19.0                          Nordea     Yes        790        927   \n",
            "21        20.0                     Danske Bank     Yes        546        533   \n",
            "22        21.0                         DZ Bank  Yes(1)         31         11   \n",
            "23        22.0                       CaixaBank     Yes          -        170   \n",
            "24        23.0                   Crédit Mutuel     Yes          9         86   \n",
            "25        24.0                        Rabobank     Yes         11        113   \n",
            "26        25.0               La Banque Postale     Yes          -         48   \n",
            "27         NaN                             NaN   TOTAL     64,217     49,516   \n",
            "\n",
            "   Unnamed: 4 Unnamed: 5 Unnamed: 6 Unnamed: 7 Unnamed: 8  \\\n",
            "0        2018       2019       2020       2021      TOTAL   \n",
            "1         NaN        NaN        NaN        NaN        NaN   \n",
            "2       5,097     10,941     18,161      8,664     59,121   \n",
            "3       6,132      9,021     15,193      4,527     48,319   \n",
            "4       5,304      8,948     15,359      6,992     46,379   \n",
            "5       4,782      8,047      8,772      4,573     34,778   \n",
            "6       4,117      7,537     10,859      4,321     34,353   \n",
            "7       1,833      2,880      6,566      5,747     28,325   \n",
            "8       2,663      5,795      5,901      1,219     23,399   \n",
            "9       1,399      4,153      2,333      3,272     18,099   \n",
            "10      1,957      5,181      3,341      3,096     16,402   \n",
            "11      1,798      2,530      4,344      1,555     13,594   \n",
            "12      1,802      3,319      1,651      2,054     12,596   \n",
            "13      2,181      2,616      1,350      1,989     11,835   \n",
            "14      3,234      2,360        441        466     11,208   \n",
            "15      1,437      2,369      2,668      2,281     11,060   \n",
            "16      1,744      2,078      2,551        399     10,803   \n",
            "17        863        649      2,374        373      5,918   \n",
            "18        783      1,451      1,521        906      5,835   \n",
            "19        493        550      1,139        938      4,373   \n",
            "20        222        751        685        796      4,171   \n",
            "21        207      1,066        570        613      3,536   \n",
            "22        415        878          -         66      1,402   \n",
            "23          -         93        135         89        487   \n",
            "24        100        102          -          -        297   \n",
            "25          9         22          -          -        156   \n",
            "26          -          -          -          -         48   \n",
            "27     48,573     83,337    105,914     54,937    406,494   \n",
            "\n",
            "                                        Unnamed: 9  \n",
            "0                         Top 3 companies financed  \n",
            "1                                              NaN  \n",
            "2                 Exxon Mobil, Pemex, Saudi Aramco  \n",
            "3                           Exxon Mobil, Shell, BP  \n",
            "4                          Shell, Saudi Aramco, BP  \n",
            "5                      Petrobras, BP, Saudi Aramco  \n",
            "6                    Exxon Mobil, BP, Saudi Aramco  \n",
            "7              Shell, Exxon Mobil, Qatar Petroleum  \n",
            "8                             Petrobras, Pemex, BP  \n",
            "9   Diamondback Energy, BP, Pioneer Nat. Resources  \n",
            "10     Saudi Aramco, Occidental Petroleum, Chevron  \n",
            "11                               Eni, OMV, Gazprom  \n",
            "12                    Eni, Harbour Energy, Aker BP  \n",
            "13                           Gazprom, Eni, Novatek  \n",
            "14                   Woodside Petroleum, BP, Pemex  \n",
            "15                  Energean, Shell, TotalEnergies  \n",
            "16                    Pemex, Repsol, TotalEnergies  \n",
            "17                       BP, Shell, Harbour Energy  \n",
            "18                        BP, Wintershall Dea, OMV  \n",
            "19                         BP, Eni, Harbour Energy  \n",
            "20                     Aker BP, Lundin Energy, Eni  \n",
            "21                     Aker BP, Lundin Energy, DNO  \n",
            "22                             OMV, Gazprom, Pemex  \n",
            "23                          Gazprom, TotalEnergies  \n",
            "24               Petronas, Eni, Woodside Petroleum  \n",
            "25                   Saudi Aramco, Gazprom, Lukoil  \n",
            "26                                   TotalEnergies  \n",
            "27                                             NaN  \n"
          ]
        }
      ]
    },
    {
      "cell_type": "code",
      "source": [
        "tabula.convert_into(\"Oil-Gas-Expansion-lose-lose.pdf\", \"financing of fossilfuel.csv\", pages=8)"
      ],
      "metadata": {
        "id": "cBU1g8k3bpHi"
      },
      "execution_count": 32,
      "outputs": []
    }
  ]
}